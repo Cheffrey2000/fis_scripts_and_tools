{
 "cells": [
  {
   "cell_type": "code",
   "execution_count": null,
   "metadata": {},
   "outputs": [],
   "source": [
    "\"\"\"\n",
    "This is the original set of functions to fix the issues with latex rendering. The solution was to convert all latex equations to the github rendering link\n",
    "\"\"\""
   ]
  },
  {
   "cell_type": "code",
   "execution_count": 1,
   "metadata": {},
   "outputs": [],
   "source": [
    "import requests\n",
    "import os\n",
    "import argparse\n",
    "import yaml\n",
    "import re\n",
    "import subprocess\n",
    "import json"
   ]
  },
  {
   "cell_type": "code",
   "execution_count": null,
   "metadata": {},
   "outputs": [],
   "source": [
    "def update_assignment_details(canvas_url, file_name):\n",
    "    url = canvas_url\n",
    "    f = open('fixed.txt', 'r')\n",
    "    file_contents = f.read()\n",
    "    payload = {'assignment[description]': file_contents}\n",
    "    head = {'Authorization': f\"Bearer {os.environ.get('CANVAS_API_KEY')}\"}\n",
    "    response = requests.put(url=url, headers=head, data=payload)\n",
    "    return response.json()"
   ]
  },
  {
   "cell_type": "code",
   "execution_count": 7,
   "metadata": {
    "tags": []
   },
   "outputs": [],
   "source": [
    "\"\"\"\n",
    "This function is useful in parsing the yaml file for an entire canvas course resulting in the extraction of a dictionary with the module id numbers as the keys and the lesson detail as the values.\n",
    "\"\"\"\n",
    "def lessons_list(yaml_file):\n",
    "    with open(yaml_file) as f:\n",
    "        data = yaml.load(f, Loader=yaml.FullLoader)\n",
    "    lesson_data = {}\n",
    "\n",
    "    for i in data[':modules']:\n",
    "        lesson_data[i[':id']] = []\n",
    "        for j in i[':lessons']:\n",
    "            if j['type'] == 'Assignment' or j['type'] == 'Page':\n",
    "                lesson_data[i[':id']].append(j['url'])\n",
    "            else:\n",
    "                continue\n",
    "            \n",
    "    return lesson_data"
   ]
  },
  {
   "cell_type": "code",
   "execution_count": 9,
   "metadata": {},
   "outputs": [],
   "source": [
    "\"\"\"\n",
    "This takes a canvas url and returns a json file with the details for the lesson.\n",
    "\"\"\"\n",
    "\n",
    "def lesson_details(canvas_url):\n",
    "    canvas_path = os.environ.get('CANVAS_API_PATH')\n",
    "    url = canvas_url\n",
    "    head = {'Authorization': f\"Bearer {os.environ.get('CANVAS_API_KEY')}\"}\n",
    "    response = requests.get(url=url, headers=head)\n",
    "    return response.json()"
   ]
  },
  {
   "cell_type": "code",
   "execution_count": 10,
   "metadata": {},
   "outputs": [],
   "source": [
    "\"\"\"\n",
    "This function takes the canvas url and modifies the latex to render in native canvas latex, then returns the lesson or page contents as a string\n",
    "\"\"\"\n",
    "def canvas_details(canvas_url):    \n",
    "    lesson_url = canvas_url.strip()\n",
    "    command = ('github-to-canvas',  '--read-from-canvas', lesson_url)\n",
    "    process = subprocess.Popen(command, stdout=subprocess.PIPE)\n",
    "    data = process.communicate()[0]\n",
    "    data = yaml.safe_load(data)\n",
    "    lesson_type = data['type']\n",
    "    if data['type'] == 'Page':\n",
    "        data = data['body']\n",
    "        \n",
    "        if (len(re.findall('\\$', data)) + len(re.findall('\\$\\$', data)))%2 != 0:\n",
    "            message = (f\"\"\"The lesson URL {canvas_url} is not a LaTeX repo\"\"\")\n",
    "            return False, message, lesson_type\n",
    "        else:\n",
    "            for character in ('$$', '$'):\n",
    "                sep = character\n",
    "                sep_clean = sep+\" \"\n",
    "                data = data.replace(sep_clean, sep)\n",
    "                if \"\\\\begin{align}\" in data:\n",
    "                    data = data.replace('\\\\begin{align}', '&')\n",
    "                    print('fixed BEGIN ALIGN')\n",
    "                if \"\\\\end{align}\" in data:\n",
    "                    data = data.replace('\\\\end{align}', '&')\n",
    "                    print('fixed END ALIGN')\n",
    "                f = open('fixed.txt', 'w')\n",
    "                f.write(data)\n",
    "                f.close()\n",
    "                message = f\"\"\"The lesson URL {canvas_url} is ready to be fixed\"\"\"\n",
    "                return True, message, lesson_type\n",
    "\n",
    "    elif data['type'] == 'Assignment':\n",
    "        lesson_type = data['type']\n",
    "        data = data['description']\n",
    "        if (len(re.findall('\\$', data)) + len(re.findall('\\$\\$', data)))%2 != 0:\n",
    "            message = f\"\"\"The lesson URL {canvas_url} is not a LaTeX repo\"\"\"\n",
    "            return False, message, lesson_type\n",
    "        else:\n",
    "            for character in ('$$', '$'):\n",
    "                sep = character\n",
    "                sep_clean = sep+\" \"\n",
    "                data = data.replace(sep_clean, sep)\n",
    "                if r\"\\begin{align}\" in data:\n",
    "                    data = data.replace(r'\\begin{align}', '&')\n",
    "                    print('fixed BEGIN ALIGN')\n",
    "                if \"\\\\\\end{align}\" in data:\n",
    "                    data = data.replace('\\\\\\end{align}', '&')\n",
    "                    print('fixed END ALIGN')\n",
    "\n",
    "                f = open('fixed.txt', 'w')\n",
    "                f.write(data)\n",
    "                f.close()\n",
    "                message = f\"\"\"The lesson URL {canvas_url} is ready to be fixed\"\"\"\n",
    "                return True, message, lesson_type\n",
    "    \n",
    "\n"
   ]
  },
  {
   "cell_type": "code",
   "execution_count": null,
   "metadata": {},
   "outputs": [],
   "source": [
    "lesson_url = 'https://learning.flatironschool.com/api/v1/courses/4713/pages/setting-up-a-professional-data-science-environment-introduction'\n",
    "command = ('github-to-canvas',  '--read-from-canvas', lesson_url)\n",
    "process = subprocess.Popen(command, stdout=subprocess.PIPE)\n",
    "data = process.communicate()[0]\n",
    "data = yaml.safe_load(data)\n",
    "data.keys()\n"
   ]
  },
  {
   "cell_type": "code",
   "execution_count": null,
   "metadata": {},
   "outputs": [],
   "source": [
    "(len(re.findall('\\$', data)) + len(re.findall('\\$\\$', data)))%2"
   ]
  },
  {
   "cell_type": "code",
   "execution_count": 18,
   "metadata": {},
   "outputs": [],
   "source": [
    "\"\"\"\n",
    "This is the script that takes the LaTeX in the readme file and converts it to a github rendered image link.\n",
    "This version uses the .replace() method from the string library\n",
    "The original file will be modified inplace with this script\n",
    "\"\"\"    \n",
    "\n",
    "def tex_fix(canvas_url):\n",
    "    check, message, lesson_type = canvas_details(canvas_url)\n",
    "    if check == False:\n",
    "        return message\n",
    "    \n",
    "    print(message)    \n",
    "\n",
    "    for char in ('$$', '$'):\n",
    "        f = open('fixed.txt', 'r')\n",
    "        data = f.read()\n",
    "        f.close()\n",
    "\n",
    "\n",
    "        special_characters = [r\"\\backslash\", \"\\subset\", \"\\subseteq\", \"\\cap\", \"\\cup\"]\n",
    "        data_split = data.split(char)\n",
    "        for i in range(len(data_split)):        \n",
    "            if i %2 !=0:\n",
    "                for item in special_characters:\n",
    "                    data_split[i] = data_split[i].replace(item,(' '+item))\n",
    "                if \"prod\" in data_split[i]:\n",
    "                    data_split[i] = data_split[i].replace('prod', 'displaystyle\\prod')\n",
    "                \n",
    "                if \"sum\" in data_split[i]:\n",
    "                    data_split[i] = data_split[i].replace('prod', 'displaystyle\\sum')\n",
    "\n",
    "                if r\"<em>\" in data_split[i]:\n",
    "                    data_split[i] = re.sub(r'<em>', '_', data_split[i])\n",
    "\n",
    "                if r\"</em>\" in data_split[i]:\n",
    "                    data_split[i] = re.sub(r'</em>', '_', data_split[i])\n",
    "                    \n",
    "                data_split[i] = f\"\"\" <img src=\"https://render.githubusercontent.com/render/math?math={data_split[i].strip()}\"> \"\"\"\n",
    "\n",
    "        final = ''.join(data_split)\n",
    "        f = open('fixed.txt', 'w')\n",
    "        f.write(final)\n",
    "        f.close()\n",
    "    print(f'url {canvas_url} file saved as \"fixed.txt\"')\n",
    "\n",
    "\n",
    "\n",
    "    if lesson_type == 'Page':\n",
    "        update_page_details(canvas_url, 'fixed.txt')\n",
    "        \n",
    "    else:\n",
    "        update_assignment_details(canvas_url, 'fixed.txt')\n",
    "\n",
    "\n",
    "\n",
    "\n"
   ]
  },
  {
   "cell_type": "markdown",
   "metadata": {},
   "source": [
    "&P(A|B) = \\frac{P(B|A)P(A)}{P(B)} \\text{- this follows from Theorem 1} &\n",
    "<img src=\"https://render.githubusercontent.com/render/math?math=& P(A) = P(A \\mid C_1)P(C_1) + P(A \\mid C_2)P(C_2) + \\ldots + P(A \\mid C_m)P(C_m) &\">"
   ]
  },
  {
   "cell_type": "code",
   "execution_count": null,
   "metadata": {},
   "outputs": [],
   "source": [
    "tex_fix('https://learning.flatironschool.com/api/v1/courses/4713/assignments/131759')"
   ]
  },
  {
   "cell_type": "markdown",
   "metadata": {},
   "source": [
    "\\$60k/year"
   ]
  },
  {
   "cell_type": "code",
   "execution_count": null,
   "metadata": {},
   "outputs": [],
   "source": [
    "lessons = lessons_list('projects/course_structure.yml')"
   ]
  },
  {
   "cell_type": "code",
   "execution_count": null,
   "metadata": {},
   "outputs": [],
   "source": [
    "mods = lessons.keys()\n",
    "mods"
   ]
  },
  {
   "cell_type": "code",
   "execution_count": null,
   "metadata": {},
   "outputs": [],
   "source": [
    "mod_list = [28946, 28947, 28948, 28978, 28961, 28962, 28963, 28964, 28965, 28966, 28967, 28968, 28969, 28970, 28979, 28983, 28984, 28985, 28986, 28987, 28988, 28989, 28990, 28991, 28992, 28993, 28994, 29001, 29006, 29007, 29008, 29009, 29010, 29011, 29012, 29013, 29014, 29015, 29016, 29018, 29019, 29020, 29026]"
   ]
  },
  {
   "cell_type": "code",
   "execution_count": null,
   "metadata": {},
   "outputs": [],
   "source": [
    "for mod in mod_list:\n",
    "    try:\n",
    "        fix_mod(mod)\n",
    "        mod_list.remove(mod)\n",
    "        print(f'mod {mod} done')\n",
    "    except:\n",
    "        print(f'mod {mod} completed')"
   ]
  },
  {
   "cell_type": "code",
   "execution_count": 15,
   "metadata": {},
   "outputs": [],
   "source": [
    "def fix_mod(mod):\n",
    "    for page in lessons[mod]:\n",
    "        tex_fix(page)"
   ]
  },
  {
   "cell_type": "code",
   "execution_count": 13,
   "metadata": {},
   "outputs": [],
   "source": [
    "def update_page_details(canvas_url, file_name):\n",
    "    canvas_path = os.environ.get('CANVAS_API_PATH')\n",
    "    url = canvas_url\n",
    "    f = open('fixed.txt', 'r')\n",
    "    file_contents = f.read()\n",
    "    payload = {'wiki_page[body]': file_contents}\n",
    "    head = {'Authorization': f\"Bearer {os.environ.get('CANVAS_API_KEY')}\"}\n",
    "    response = requests.put(url=url, headers=head, data=payload)\n",
    "    return response.json()"
   ]
  },
  {
   "cell_type": "code",
   "execution_count": 19,
   "metadata": {},
   "outputs": [
    {
     "name": "stdout",
     "output_type": "stream",
     "text": [
      "The lesson URL https://learning.flatironschool.com/api/v1/courses/4713/pages/tuning-neural-networks-introduction is ready to be fixed\n",
      "url https://learning.flatironschool.com/api/v1/courses/4713/pages/tuning-neural-networks-introduction file saved as \"fixed.txt\"\n",
      "The lesson URL https://learning.flatironschool.com/api/v1/courses/4713/pages/tuning-neural-networks-with-regularization is ready to be fixed\n",
      "url https://learning.flatironschool.com/api/v1/courses/4713/pages/tuning-neural-networks-with-regularization file saved as \"fixed.txt\"\n",
      "The lesson URL https://learning.flatironschool.com/api/v1/courses/4713/pages/tuning-neural-networks-with-normalization is ready to be fixed\n",
      "url https://learning.flatironschool.com/api/v1/courses/4713/pages/tuning-neural-networks-with-normalization file saved as \"fixed.txt\"\n",
      "The lesson URL https://learning.flatironschool.com/api/v1/courses/4713/pages/tuning-neural-networks-recap is ready to be fixed\n",
      "url https://learning.flatironschool.com/api/v1/courses/4713/pages/tuning-neural-networks-recap file saved as \"fixed.txt\"\n"
     ]
    }
   ],
   "source": [
    "fix_mod(29018)"
   ]
  },
  {
   "cell_type": "code",
   "execution_count": null,
   "metadata": {},
   "outputs": [],
   "source": [
    "string_fix = r\"\"\"\\begin{bmatrix}%2035%20%20\\%2019%20\\%20%20\\vdots%20\\%209%20\\7%20\\\\vdots%20\\%204%20\\%206%20\\%20\\vdots%20\\end{bmatrix}\"\"\""
   ]
  },
  {
   "cell_type": "markdown",
   "metadata": {},
   "source": []
  },
  {
   "cell_type": "code",
   "execution_count": null,
   "metadata": {},
   "outputs": [],
   "source": [
    "list_of_chars = [('&lt;', '<'), ('&gt;', '>'), ('%20', ' '), ('%22', '\"'), (r'%2b', '+'), ('&amp;', '')]\n",
    "for i in list_of_chars:\n",
    "    string_fix = string_fix.replace(i[0], i[1])\n",
    "print(string_fix)"
   ]
  },
  {
   "cell_type": "code",
   "execution_count": null,
   "metadata": {},
   "outputs": [],
   "source": [
    " <img src=\"https://render.githubusercontent.com/render/math?math=f_1\" />\n",
    " https://raw.githubusercontent.com/learn-co-curriculum/dsc-inheritance"
   ]
  }
 ],
 "metadata": {
  "interpreter": {
   "hash": "7525ddc99344d304bee386e4294f627a69ef3ddf90a93199e89e426185c49e1b"
  },
  "kernelspec": {
   "display_name": "Python 3.8.5 ('learn-env')",
   "language": "python",
   "name": "python3"
  },
  "language_info": {
   "codemirror_mode": {
    "name": "ipython",
    "version": 3
   },
   "file_extension": ".py",
   "mimetype": "text/x-python",
   "name": "python",
   "nbconvert_exporter": "python",
   "pygments_lexer": "ipython3",
   "version": "3.8.5"
  },
  "orig_nbformat": 4
 },
 "nbformat": 4,
 "nbformat_minor": 2
}
